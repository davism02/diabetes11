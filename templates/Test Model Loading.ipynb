{
 "cells": [
  {
   "cell_type": "code",
   "execution_count": 1,
   "id": "c1731fee",
   "metadata": {},
   "outputs": [],
   "source": [
    "# coding=utf-8\n",
    "import numpy as np\n",
    "import os\n",
    "import time\n",
    "from flask import Flask, request, jsonify, render_template\n",
    "import joblib\n",
    "\n",
    "# SQLite for information\n",
    "import sqlite3\n",
    "\n",
    "# Define a flask app\n",
    "app = Flask(__name__)\n",
    "model = joblib.load('../models/rf_model.h5')"
   ]
  },
  {
   "cell_type": "code",
   "execution_count": 2,
   "id": "efa42ca3",
   "metadata": {},
   "outputs": [],
   "source": [
    "@app.route('/')\n",
    "def home():\n",
    "    return render_template('index.html')"
   ]
  },
  {
   "cell_type": "code",
   "execution_count": 3,
   "id": "ab246c3b",
   "metadata": {},
   "outputs": [],
   "source": [
    "@app.route('/predict',methods=['POST','GET'])\n",
    "def predict():\n",
    "\n",
    "    int_features = [float(x) for x in request.form.values()]\n",
    "    final_features = [np.array(int_features)]\n",
    "    prediction = model.predict(final_features)\n",
    "\n",
    "    # output = round(prediction[0], 2)\n",
    "    if prediction==0:\n",
    "        return render_template('index.html',\n",
    "                               prediction_text='Low chances of patient readmitted to hospital.'.format(prediction),\n",
    "                               )\n",
    "    else:\n",
    "        return render_template('index.html',\n",
    "                               prediction_text='High chances of patient readmitted to hospital'.format(prediction),\n",
    "                              )\n",
    "\n",
    "# if __name__ == \"__main__\":\n",
    "#     app.run(debug=True)"
   ]
  },
  {
   "cell_type": "code",
   "execution_count": null,
   "id": "9dfdb073",
   "metadata": {},
   "outputs": [],
   "source": []
  }
 ],
 "metadata": {
  "kernelspec": {
   "display_name": "Python 3",
   "language": "python",
   "name": "python3"
  },
  "language_info": {
   "codemirror_mode": {
    "name": "ipython",
    "version": 3
   },
   "file_extension": ".py",
   "mimetype": "text/x-python",
   "name": "python",
   "nbconvert_exporter": "python",
   "pygments_lexer": "ipython3",
   "version": "3.8.8"
  }
 },
 "nbformat": 4,
 "nbformat_minor": 5
}
